{
 "cells": [
  {
   "cell_type": "code",
   "execution_count": 38,
   "id": "ff64d28f-6703-4a61-b970-5bc298ba7834",
   "metadata": {},
   "outputs": [],
   "source": [
    "from ioMicro import *\n",
    "import time\n",
    "import napari\n",
    "import numpy as np\n",
    "import os\n",
    "\n",
    "#first try: use numba, will not be using numba\n",
    "from numba import jit\n",
    "#second try: lets try pytorch\n",
    "import torch\n",
    "#from pytorchmax import *"
   ]
  },
  {
   "cell_type": "code",
   "execution_count": 40,
   "id": "8e7211f7-be42-426b-a4bc-3fa8376b2dc1",
   "metadata": {},
   "outputs": [
    {
     "name": "stdout",
     "output_type": "stream",
     "text": [
      "Collecting cython\n",
      "  Downloading Cython-0.29.34-py2.py3-none-any.whl (988 kB)\n",
      "     ---------------------------------------- 0.0/988.1 kB ? eta -:--:--\n",
      "     --------------------------- --------- 747.5/988.1 kB 23.8 MB/s eta 0:00:01\n",
      "     ------------------------------------- 988.1/988.1 kB 20.8 MB/s eta 0:00:00\n",
      "Installing collected packages: cython\n",
      "Successfully installed cython-0.29.34\n"
     ]
    }
   ],
   "source": [
    "!pip install cython"
   ]
  },
  {
   "cell_type": "code",
   "execution_count": 39,
   "id": "01fe5abc-ea46-4f3f-b9a2-e557218aabfb",
   "metadata": {},
   "outputs": [
    {
     "data": {
      "text/plain": [
       "'D:\\\\Carlos\\\\Scripts'"
      ]
     },
     "execution_count": 39,
     "metadata": {},
     "output_type": "execute_result"
    }
   ],
   "source": [
    "os.getcwd()\n"
   ]
  },
  {
   "cell_type": "code",
   "execution_count": 13,
   "id": "22bf2232-ed35-446b-8f5d-b4cf5f5a7e57",
   "metadata": {},
   "outputs": [],
   "source": [
    "folder = r'\\\\merfish7\\merfish7v1\\DNA_FISH\\Induced_cardio_05_04_2023\\H3_QQ1_2_3'\n",
    "fls = glob.glob(folder+os.sep+'*.zarr')\n",
    "fl = fls[0]\n",
    "im = read_im(fl)"
   ]
  },
  {
   "cell_type": "code",
   "execution_count": 14,
   "id": "308af62e-bdcf-4a75-a1f3-560604ccf74f",
   "metadata": {},
   "outputs": [],
   "source": [
    "im_ = np.array(im[0],dtype=np.float32)"
   ]
  },
  {
   "cell_type": "code",
   "execution_count": 15,
   "id": "6e4ce8a4-b27c-4395-beba-3bf6de7e0f30",
   "metadata": {},
   "outputs": [],
   "source": [
    "im_n = norm_slice(im_,s=30)"
   ]
  },
  {
   "cell_type": "code",
   "execution_count": 35,
   "id": "46a73b83-17b0-4dc4-8654-bac55630b5ec",
   "metadata": {},
   "outputs": [
    {
     "name": "stdout",
     "output_type": "stream",
     "text": [
      "time for original method: 25.686854600906372\n"
     ]
    }
   ],
   "source": [
    "#getting time for original method\n",
    "a = time.time()\n",
    "X = get_local_max(im_n,500,im_raw=im_,dbscan=False)\n",
    "b= time.time()\n",
    "\n",
    "print(\"time for original method: \" + str(b-a))"
   ]
  },
  {
   "cell_type": "code",
   "execution_count": 47,
   "id": "da4be2df-29de-4c43-9076-ec2dc8d294b2",
   "metadata": {},
   "outputs": [
    {
     "data": {
      "text/plain": [
       "(None, <pyximport.pyximport.PyxImporter at 0x244c7139ff0>)"
      ]
     },
     "execution_count": 47,
     "metadata": {},
     "output_type": "execute_result"
    }
   ],
   "source": [
    "import pyximport\n",
    "pyximport.install(language_level=3)"
   ]
  },
  {
   "cell_type": "code",
   "execution_count": 53,
   "id": "64f9ca85-67a1-4a3d-bd32-f139c4d97caa",
   "metadata": {},
   "outputs": [
    {
     "name": "stdout",
     "output_type": "stream",
     "text": [
      "The Cython extension is already loaded. To reload it, use:\n",
      "  %reload_ext Cython\n"
     ]
    }
   ],
   "source": [
    "%load_ext Cython\n",
    "    \n",
    "\n"
   ]
  },
  {
   "cell_type": "code",
   "execution_count": 65,
   "id": "6268b1fe-5a35-4974-9543-0908cd7df305",
   "metadata": {},
   "outputs": [
    {
     "name": "stderr",
     "output_type": "stream",
     "text": [
      "\n",
      "Error compiling Cython file:\n",
      "------------------------------------------------------------\n",
      "...\n",
      "    cdef np.ndarray[np.float64_t, ndim=1] xc\n",
      "    cdef np.ndarray[np.float64_t, ndim=1] yc\n",
      "\n",
      "    if delta_fit != 0 and Xh.shape[0] > 0:\n",
      "        z, x, y, h = Xh.T.astype(np.int32)\n",
      "        cdef int zmax = im_dif.shape[0]\n",
      "            ^\n",
      "------------------------------------------------------------\n",
      "\n",
      "C:\\Users\\carlos\\.ipython\\cython\\_cython_magic_973265d89e2b3d6a0dabdd3a8efaaa54.pyx:55:13: cdef statement not allowed here\n"
     ]
    }
   ],
   "source": [
    "\n",
    "%%cython\n",
    "\n",
    "import numpy as np\n",
    "cimport numpy as np\n",
    "import cython.numpy as cnp\n",
    "\n",
    "\n",
    "\n",
    "def get_local_max(np.ndarray[np.float64_t, ndim=3] im_dif, double th_fit,\n",
    "                  np.ndarray[np.float64_t, ndim=3] im_raw=None,\n",
    "                  dict dic_psf=None, int delta=1, int delta_fit=3,\n",
    "                  bint dbscan=True, bint return_centers=False, np.ndarray[np.float64_t, ndim=1] mins=None,\n",
    "                  double sigmaZ=1, double sigmaXY=1.5):\n",
    "\n",
    "    cdef int zmax = im_dif.shape[0]\n",
    "    cdef int xmax = im_dif.shape[1]\n",
    "    cdef int ymax = im_dif.shape[2]\n",
    "\n",
    "    cdef np.ndarray[np.int_t, ndim=1] z = np.where(im_dif > th_fit)[0]\n",
    "    cdef np.ndarray[np.int_t, ndim=1] x = np.where(im_dif > th_fit)[1]\n",
    "    cdef np.ndarray[np.int_t, ndim=1] y = np.where(im_dif > th_fit)[2]\n",
    "\n",
    "    cdef np.ndarray[np.float64_t, ndim=1] in_im = im_dif[z, x, y]\n",
    "\n",
    "    cdef Py_ssize_t n = len(x)\n",
    "\n",
    "    #cdef np.ndarray[np.bool_t, ndim=1] keep = np.ones(n, dtype=np.bool_)\n",
    "    #cdef np.ndarray[cnp.bool_t, ndim=1] keep = np.ones(n, dtype=cnp.bool_)\n",
    "    cdef np.ndarray[bint, ndim=1] keep = np.ones(n, dtype=bool)\n",
    "\n",
    "    cdef int d1, d2, d3\n",
    "    for d1 in range(-delta, delta + 1):\n",
    "        for d2 in range(-delta, delta + 1):\n",
    "            for d3 in range(-delta, delta + 1):\n",
    "                keep &= (in_im >= im_dif[(z + d1) % zmax, (x + d2) % xmax, (y + d3) % ymax])\n",
    "\n",
    "    z = z[keep]\n",
    "    x = x[keep]\n",
    "    y = y[keep]\n",
    "    h = in_im[keep]\n",
    "\n",
    "    Xh = np.column_stack((z, x, y, h))\n",
    "\n",
    "    cdef np.ndarray[np.float64_t, ndim=2] im_centers\n",
    "    cdef np.ndarray[np.float64_t, ndim=2] Xft\n",
    "    cdef np.ndarray[np.float64_t, ndim=1] bk\n",
    "    cdef np.ndarray[np.float64_t, ndim=1] a\n",
    "    cdef np.ndarray[np.float64_t, ndim=1] habs\n",
    "    cdef np.ndarray[np.float64_t, ndim=1] hn\n",
    "    cdef np.ndarray[np.float64_t, ndim=1] zc\n",
    "    cdef np.ndarray[np.float64_t, ndim=1] xc\n",
    "    cdef np.ndarray[np.float64_t, ndim=1] yc\n",
    "\n",
    "    if delta_fit != 0 and Xh.shape[0] > 0:\n",
    "        z, x, y, h = Xh.T.astype(np.int32)\n",
    "        cdef int zmax = im_dif.shape[0]\n",
    "        cdef int xmax = im_dif.shape[1]\n",
    "        cdef int ymax = im_dif.shape[2]\n",
    "\n",
    "        im_centers = np.empty((5, 0), dtype=np.float64)\n",
    "        Xft = np.empty((0, 3), dtype=np.float64)\n",
    "\n",
    "        for d1 in range(-delta_fit, delta_fit + 1):\n",
    "            for d2 in range(-delta_fit, delta_fit + 1):\n",
    "                for d3 in range(-delta_fit, delta_fit + 1):\n",
    "                    if d1 * d1 + d2 * d2 + d3 * d3 <= delta_fit * delta_fit:\n",
    "                        im_centers = np.column_stack((im_centers,\n",
    "                                                      (z + d1) % zmax,\n",
    "                                                      (x + d2) % xmax,\n",
    "                                                      (y + d3) % ymax,\n",
    "                                                      im_dif[(z + d1) % zmax, (x + d2) % xmax, (y + d3) % ymax]))\n",
    "\n",
    "                        if im_raw is not None:\n",
    "                            im_centers = np.column_stack((im_centers,\n",
    "                                                          im_raw[(z + d1) % zmax, (x + d2) % xmax, (y + d3) % ymax]))\n",
    "\n",
    "                        Xft = np.vstack((Xft, [d1, d2, d3]))\n",
    "\n",
    "        bk = np.min(im_centers[3], axis=1)\n",
    "        im_centers[3] -= bk\n",
    "        a = np.sum(im_centers[3], axis=1)\n",
    "        habs = np.zeros_like(bk)\n",
    "\n",
    "        if im_raw is not None:\n",
    "            habs = im_raw[z % zmax, x % xmax, y % ymax]\n",
    "\n",
    "        if dic_psf is not None:\n",
    "            keys = list(dic_psf.keys())\n",
    "            im0 = dic_psf[keys[0]]\n",
    "            space = np.sort(np.diff(keys, axis=0).ravel())\n",
    "            space = space[space != 0][0]\n",
    "            zi, xi, yi = (z / space).astype(np.int32), (x / space).astype(np.int32), (y / space).astype(np.int32)\n",
    "            keys_ = np.array(keys)\n",
    "            sz_ = np.max(keys_ // space, axis=0) + 1\n",
    "            ind_ = tuple(Xft.T + (np.array(im0.shape)[:, np.newaxis] // 2 - 1))\n",
    "\n",
    "            im_psf = np.zeros(sz_ + [len(ind_[0])], dtype=np.float64)\n",
    "            for key in keys_:\n",
    "                coord = tuple((key / space).astype(np.int32))\n",
    "                im__ = dic_psf[tuple(key)][ind_]\n",
    "                im_psf[coord] = (im__ - np.mean(im__)) / np.std(im__)\n",
    "\n",
    "            im_psf_ = im_psf[zi, xi, yi]\n",
    "            im_centers__ = im_centers[3:].T.copy()\n",
    "            im_centers__ = (im_centers__ - np.mean(im_centers__, axis=1)[:, np.newaxis]) / np.std(im_centers__, axis=1)[:, np.newaxis]\n",
    "            hn = np.mean(im_centers__ * im_psf_, axis=1)\n",
    "\n",
    "        else:\n",
    "            sz = delta_fit\n",
    "            Xft = np.indices([2 * sz + 1] * 3) - sz\n",
    "            Xft = Xft.reshape([-1, 3])\n",
    "            Xft = Xft[np.linalg.norm(Xft, axis=1) <= sz]\n",
    "            sigma = np.array([sigmaZ, sigmaXY, sigmaXY])[np.newaxis]\n",
    "            Xft_ = Xft / sigma\n",
    "            norm_G = np.exp(-np.sum(Xft_ * Xft_, axis=-1) / 2.)\n",
    "            norm_G = (norm_G - np.mean(norm_G)) / np.std(norm_G)\n",
    "            im_centers__ = im_centers[3:].T.copy()\n",
    "            im_centers__ = (im_centers__ - np.mean(im_centers__, axis=1)[:, np.newaxis]) / np.std(im_centers__, axis=1)[:, np.newaxis]\n",
    "            hn = np.mean(im_centers__ * norm_G, axis=1)\n",
    "\n",
    "        zc = np.sum(im_centers[0] * im_centers[3], axis=1) / np.sum(im_centers[3], axis=1)\n",
    "        xc = np.sum(im_centers[1] * im_centers[3], axis=1) / np.sum(im_centers[3], axis=1)\n",
    "        yc = np.sum(im_centers[2] * im_centers[3], axis=1) / np.sum(im_centers[3], axis=1)\n",
    "\n",
    "        Xh = np.column_stack((zc, xc, yc, bk, a, habs, hn, h))\n",
    "\n",
    "    if return_centers:\n",
    "        return Xh, im_centers.T\n",
    "\n",
    "    return Xh\n"
   ]
  },
  {
   "cell_type": "code",
   "execution_count": null,
   "id": "33eb67cd-f4ca-4ed4-86e8-80b1e6503529",
   "metadata": {},
   "outputs": [],
   "source": []
  }
 ],
 "metadata": {
  "kernelspec": {
   "display_name": "Python 3 (ipykernel)",
   "language": "python",
   "name": "python3"
  },
  "language_info": {
   "codemirror_mode": {
    "name": "ipython",
    "version": 3
   },
   "file_extension": ".py",
   "mimetype": "text/x-python",
   "name": "python",
   "nbconvert_exporter": "python",
   "pygments_lexer": "ipython3",
   "version": "3.10.11"
  }
 },
 "nbformat": 4,
 "nbformat_minor": 5
}
